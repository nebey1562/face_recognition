{
 "cells": [
  {
   "cell_type": "code",
   "execution_count": null,
   "id": "c1f88523-6456-4625-8bb5-6973f7614e63",
   "metadata": {},
   "outputs": [],
   "source": [
    "!pip install labelme tensorflow opencv-python matplotlib albumentations"
   ]
  },
  {
   "cell_type": "code",
   "execution_count": null,
   "id": "d5961f17-f287-4428-8b9f-e1893d134d47",
   "metadata": {},
   "outputs": [],
   "source": [
    "import os\n",
    "import time\n",
    "import uuid\n",
    "import cv2"
   ]
  },
  {
   "cell_type": "markdown",
   "id": "d7a712cb-5bd8-49ec-bc50-255edce76bd9",
   "metadata": {},
   "source": [
    "**We Take the images by using our Webcam**"
   ]
  },
  {
   "cell_type": "code",
   "execution_count": null,
   "id": "6f7192ce-d230-4ccb-99e1-772c17c44e51",
   "metadata": {},
   "outputs": [],
   "source": [
    "IMAGES_PATH = os.path.join('data','images')\n",
    "number_images = 90     #I have choosen 90 images to start our data"
   ]
  },
  {
   "cell_type": "code",
   "execution_count": null,
   "id": "41813165-41fe-4b34-9dab-3d3982f45ac6",
   "metadata": {},
   "outputs": [],
   "source": [
    "cap = cv2.VideoCapture(0)\n",
    "for imgnum in range(number_images):\n",
    "    print('Collecting image {}'.format(imgnum))\n",
    "    ret, frame = cap.read()\n",
    "    imgname = os.path.join(IMAGES_PATH,f'{str(uuid.uuid1())}.jpg')\n",
    "    cv2.imwrite(imgname, frame)\n",
    "    cv2.imshow('frame', frame)\n",
    "    time.sleep(0.5)\n",
    "\n",
    "    if cv2.waitKey(1) & 0xFF == ord('q'):\n",
    "        break\n",
    "cap.release()\n",
    "cv2.destroyAllWindows()"
   ]
  },
  {
   "cell_type": "markdown",
   "id": "d7c68632-63b3-4096-b641-37937856dad2",
   "metadata": {},
   "source": [
    "**Now We use LabelMe library/application to manually draw our bounding box for the Images just took**"
   ]
  },
  {
   "cell_type": "code",
   "execution_count": null,
   "id": "feaa3e40-61be-4288-b636-825d737fe5f7",
   "metadata": {},
   "outputs": [],
   "source": [
    "!labelme"
   ]
  },
  {
   "cell_type": "code",
   "execution_count": null,
   "id": "364f9fc5-9dbc-4779-b5a1-6a34d19328ce",
   "metadata": {},
   "outputs": [],
   "source": [
    "import tensorflow as tf\n",
    "import json\n",
    "import numpy as np\n",
    "from matplotlib import pyplot as plt"
   ]
  },
  {
   "cell_type": "code",
   "execution_count": null,
   "id": "6630fc76-ffd0-498e-bd9e-2ad8c44a441e",
   "metadata": {},
   "outputs": [],
   "source": [
    "# Avoid OOM errors by setting GPU Memory Consumption Growth\n",
    "gpus = tf.config.experimental.list_physical_devices('GPU')\n",
    "for gpu in gpus: \n",
    "    tf.config.experimental.set_memory_growth(gpu, True)\n",
    "tf.config.list_physical_devices('GPU')"
   ]
  },
  {
   "cell_type": "code",
   "execution_count": null,
   "id": "4eec14a4-3557-40a0-b979-79315b0071f2",
   "metadata": {},
   "outputs": [],
   "source": [
    "images = tf.data.Dataset.list_files('data\\\\images\\\\*.jpg')"
   ]
  },
  {
   "cell_type": "code",
   "execution_count": null,
   "id": "8fbbe33b-fe41-4503-8980-c3aae6c64155",
   "metadata": {},
   "outputs": [],
   "source": [
    "images.as_numpy_iterator().next()"
   ]
  },
  {
   "cell_type": "code",
   "execution_count": null,
   "id": "1be6e1ec-615f-4dab-b28a-63c1cc1ab4cb",
   "metadata": {},
   "outputs": [],
   "source": [
    "def load_image(x): \n",
    "    byte_img = tf.io.read_file(x)\n",
    "    img = tf.io.decode_jpeg(byte_img)\n",
    "    return img"
   ]
  },
  {
   "cell_type": "code",
   "execution_count": null,
   "id": "aca67902-7dae-4413-a293-9ff80d33fa52",
   "metadata": {},
   "outputs": [],
   "source": [
    "images=images.map(load_image)"
   ]
  },
  {
   "cell_type": "code",
   "execution_count": null,
   "id": "5df52bd8-4d7e-4a5d-baae-bb5210639b94",
   "metadata": {},
   "outputs": [],
   "source": [
    "images.as_numpy_iterator().next()"
   ]
  },
  {
   "cell_type": "code",
   "execution_count": null,
   "id": "f27dce14-590c-4969-9df5-03b9919431b6",
   "metadata": {},
   "outputs": [],
   "source": [
    "type(images)"
   ]
  },
  {
   "cell_type": "markdown",
   "id": "8a50479b-c860-4c11-abde-6e525c185f03",
   "metadata": {},
   "source": [
    "**Now we plot and show the images we took**"
   ]
  },
  {
   "cell_type": "code",
   "execution_count": null,
   "id": "6f0e42dd-7ed1-4e4b-91f0-eaddae9008ab",
   "metadata": {},
   "outputs": [],
   "source": [
    "plot=image_generator.next()"
   ]
  },
  {
   "cell_type": "code",
   "execution_count": null,
   "id": "b1e97940-433f-4632-85e3-fcd84ac3aa26",
   "metadata": {},
   "outputs": [],
   "source": [
    "fig, ax = plt.subplots(ncols=3,figsize=(20,20))\n",
    "for idx, image in enumerate(plot):\n",
    "    ax[idx].imshow(image) \n",
    "plt.show()"
   ]
  },
  {
   "cell_type": "code",
   "execution_count": null,
   "id": "b092d7cb-ae7a-4ba9-8851-844b66ae5a43",
   "metadata": {},
   "outputs": [],
   "source": []
  }
 ],
 "metadata": {
  "kernelspec": {
   "display_name": "Python 3 (ipykernel)",
   "language": "python",
   "name": "python3"
  },
  "language_info": {
   "codemirror_mode": {
    "name": "ipython",
    "version": 3
   },
   "file_extension": ".py",
   "mimetype": "text/x-python",
   "name": "python",
   "nbconvert_exporter": "python",
   "pygments_lexer": "ipython3",
   "version": "3.11.5"
  }
 },
 "nbformat": 4,
 "nbformat_minor": 5
}
